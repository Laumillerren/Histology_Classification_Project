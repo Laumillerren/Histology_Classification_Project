{
 "cells": [
  {
   "cell_type": "code",
   "execution_count": 16,
   "metadata": {},
   "outputs": [],
   "source": [
    "from datasets import load_dataset\n",
    "import matplotlib.pyplot as plt\n",
    "import torch\n",
    "from torchvision import transforms\n",
    "from torch.utils.data import Dataset, DataLoader,random_split\n",
    "from torchvision.transforms.functional import to_pil_image\n",
    "\n",
    "from PIL import Image\n",
    "import pandas as pd\n",
    "from torch.utils.data import Subset\n",
    "\n",
    "\n",
    "from collections import Counter"
   ]
  },
  {
   "cell_type": "code",
   "execution_count": 24,
   "metadata": {},
   "outputs": [],
   "source": [
    "dataset = load_dataset(\n",
    "    \"EulerianKnight/breast-histopathology-images-train-test-valid-split\"\n",
    ")\n",
    "\n",
    "\n",
    "#num_samples = 1000\n",
    "\n",
    "#indices = torch.randperm(len(dataset[\"train\"]))[:num_samples]\n",
    "\n",
    "\n",
    "#subset = Subset(dataset[\"train\"], indices)"
   ]
  },
  {
   "cell_type": "code",
   "execution_count": 31,
   "metadata": {},
   "outputs": [
    {
     "data": {
      "image/jpeg": "[encoded data removed]",
      "image/png": "[encoded data removed]",
      "text/plain": [
       "<PIL.PngImagePlugin.PngImageFile image mode=RGB size=50x50>"
      ]
     },
     "execution_count": 31,
     "metadata": {},
     "output_type": "execute_result"
    }
   ],
   "source": [
    "dataset['train'][0]['image']"
   ]
  },
  {
   "cell_type": "code",
   "execution_count": null,
   "metadata": {},
   "outputs": [],
   "source": []
  },
  {
   "cell_type": "markdown",
   "metadata": {},
   "source": [
    "## image -> tensor"
   ]
  },
  {
   "cell_type": "code",
   "execution_count": 32,
   "metadata": {},
   "outputs": [],
   "source": [
    "class ImageDataset(Dataset):\n",
    "    def __init__(self,pil_dataset,transform):\n",
    "        self.transform = transform\n",
    "\n",
    "        self.pil_dataset = pil_dataset['train']\n",
    "   \n",
    "    def __len__(self):\n",
    "        return len(self.pil_dataset)\n",
    "    \n",
    "    def __getitem__(self,idx):\n",
    "        item = self.pil_dataset[idx]\n",
    "        image = item['image']\n",
    "        label = item['label']\n",
    "\n",
    "        image_tensor = self.transform(image)\n",
    "        label_tensor = torch.tensor(label)\n",
    "\n",
    "        return image_tensor,label_tensor\n",
    "    \n",
    "    def __repr__(self):\n",
    "        return self.pil_dataset.__repr__()\n",
    "        \n"
   ]
  },
  {
   "cell_type": "code",
   "execution_count": 33,
   "metadata": {},
   "outputs": [],
   "source": [
    "transform = transforms.Compose(\n",
    "    [\n",
    "        transforms.ToTensor(),  # Convert image to a tensor.\n",
    "        # Optionally, add normalization if needed, e.g.,\n",
    "        # transforms.Normalize(mean=[0.485, 0.456, 0.406], std=[0.229, 0.224, 0.225])\n",
    "    ]\n",
    ")\n",
    "\n",
    "dataset = ImageDataset(dataset,transform)\n",
    "\n",
    "\n",
    "train_size = int(0.8 * len(dataset))\n",
    "val_size = int(0.1 * len(dataset))\n",
    "test_size = len(dataset) - train_size - val_size\n",
    "\n",
    "train_dataset, val_dataset, test_dataset = random_split(\n",
    "    dataset, [train_size, val_size, test_size]\n",
    ")"
   ]
  },
  {
   "cell_type": "code",
   "execution_count": 41,
   "metadata": {},
   "outputs": [
    {
     "data": {
      "text/plain": [
       "tensor([[0.6563, 0.6813, 0.6678, 0.6762, 0.6227, 0.6235, 0.6166, 0.6122, 0.6045,\n",
       "         0.6461, 0.6664, 0.6827, 0.6819, 0.7045, 0.7043, 0.6875, 0.6783, 0.6968,\n",
       "         0.6867, 0.6981, 0.7131, 0.6967, 0.7048, 0.7013, 0.7208, 0.7224, 0.7035,\n",
       "         0.7216, 0.7303, 0.7344, 0.7180, 0.7051, 0.7208, 0.7209, 0.7262, 0.7191,\n",
       "         0.7137, 0.7154, 0.7090, 0.7075, 0.7190, 0.7141, 0.7160, 0.7118, 0.7235,\n",
       "         0.7267, 0.7242, 0.7384, 0.7379, 0.7239],\n",
       "        [0.5096, 0.5418, 0.5282, 0.5427, 0.4674, 0.4667, 0.4544, 0.4451, 0.4365,\n",
       "         0.4980, 0.5186, 0.5466, 0.5437, 0.5676, 0.5701, 0.5457, 0.5318, 0.5592,\n",
       "         0.5445, 0.5615, 0.5826, 0.5655, 0.5734, 0.5633, 0.5963, 0.5936, 0.5696,\n",
       "         0.5958, 0.6060, 0.6122, 0.5878, 0.5722, 0.5911, 0.5936, 0.5989, 0.5882,\n",
       "         0.5824, 0.5842, 0.5758, 0.5725, 0.5917, 0.5839, 0.5900, 0.5799, 0.6013,\n",
       "         0.6035, 0.6012, 0.6205, 0.6170, 0.5960],\n",
       "        [0.6907, 0.7251, 0.7153, 0.7176, 0.6593, 0.6608, 0.6554, 0.6473, 0.6368,\n",
       "         0.6819, 0.7092, 0.7464, 0.7675, 0.8063, 0.8073, 0.8068, 0.8074, 0.8173,\n",
       "         0.8027, 0.7984, 0.8215, 0.8215, 0.8359, 0.8347, 0.8444, 0.8485, 0.8468,\n",
       "         0.8562, 0.8593, 0.8668, 0.8659, 0.8668, 0.8722, 0.8661, 0.8704, 0.8642,\n",
       "         0.8676, 0.8718, 0.8721, 0.8691, 0.8706, 0.8660, 0.8711, 0.8682, 0.8720,\n",
       "         0.8719, 0.8725, 0.8741, 0.8626, 0.8663]])"
      ]
     },
     "execution_count": 41,
     "metadata": {},
     "output_type": "execute_result"
    }
   ],
   "source": [
    "train_dataset[0][0].mean(axis=-1)"
   ]
  },
  {
   "cell_type": "code",
   "execution_count": null,
   "metadata": {},
   "outputs": [],
   "source": []
  },
  {
   "cell_type": "code",
   "execution_count": null,
   "metadata": {},
   "outputs": [],
   "source": []
  },
  {
   "cell_type": "code",
   "execution_count": null,
   "metadata": {},
   "outputs": [],
   "source": []
  },
  {
   "cell_type": "code",
   "execution_count": null,
   "metadata": {},
   "outputs": [],
   "source": []
  },
  {
   "cell_type": "markdown",
   "metadata": {},
   "source": [
    "\n",
    "# algos to apply\n",
    "- classification (binary) - svm logistic reg\n",
    "- algos and why"
   ]
  },
  {
   "cell_type": "markdown",
   "metadata": {},
   "source": []
  }
 ],
 "metadata": {
  "kernelspec": {
   "display_name": "Python 3",
   "language": "python",
   "name": "python3"
  },
  "language_info": {
   "codemirror_mode": {
    "name": "ipython",
    "version": 3
   },
   "file_extension": ".py",
   "mimetype": "text/x-python",
   "name": "python",
   "nbconvert_exporter": "python",
   "pygments_lexer": "ipython3",
   "version": "3.10.12"
  }
 },
 "nbformat": 4,
 "nbformat_minor": 2
}
